{
 "cells": [
  {
   "cell_type": "markdown",
   "id": "e8e45dd0",
   "metadata": {},
   "source": [
    "## Задание 4. Найти выбросы\n",
    "\n",
    "#### Описание задачи:\n",
    "\n",
    "В этом датасете – выборка из значений величины трафика на одной из российских дорог. В переменной **volume** находится истинное количество транспортных средств, зарегистрированное на определенном километре в определенное время, а в **volume_calc** – это же количество минус количество транспортных средств, чье местоположение по тем или иным причинам разглашать нельзя.\n",
    "\n",
    "Для соревнования по прогнозированию ДТП в датасете необходимо было оставить только “публичную” переменную **volume_calc**, однако в тех случаях, когда разрыв между **volume** и **volume_calc** аномально велик, эта переменная не информативна для ML-модели. Поэтому было решено оставить лишь информативные значения **volume_calc**, а прочие заменить на пропуски.\n",
    "\n",
    "Предложите стратегию, какие значения **volume_calc** стоит заменить на пропуски. *Подсказка: при построении моделей машинного обучения количественные переменные обычно нормализуются, поэтому любая переменная там может быть представлена с точностью до линейного преобразования.*"
   ]
  },
  {
   "cell_type": "code",
   "execution_count": 1,
   "id": "9d669b55",
   "metadata": {},
   "outputs": [],
   "source": [
    "# Импорт библиотек\n",
    "import pandas as pd\n",
    "import numpy as np\n",
    "\n",
    "import matplotlib\n",
    "import matplotlib.pyplot as plt\n",
    "\n",
    "from sklearn.preprocessing import MinMaxScaler\n",
    "\n",
    "matplotlib.style.use('seaborn')\n",
    "%matplotlib inline"
   ]
  },
  {
   "cell_type": "code",
   "execution_count": 2,
   "id": "699f2f67",
   "metadata": {},
   "outputs": [
    {
     "data": {
      "text/html": [
       "<div>\n",
       "<style scoped>\n",
       "    .dataframe tbody tr th:only-of-type {\n",
       "        vertical-align: middle;\n",
       "    }\n",
       "\n",
       "    .dataframe tbody tr th {\n",
       "        vertical-align: top;\n",
       "    }\n",
       "\n",
       "    .dataframe thead th {\n",
       "        text-align: right;\n",
       "    }\n",
       "</style>\n",
       "<table border=\"1\" class=\"dataframe\">\n",
       "  <thead>\n",
       "    <tr style=\"text-align: right;\">\n",
       "      <th></th>\n",
       "      <th>volume</th>\n",
       "      <th>volume_calc</th>\n",
       "    </tr>\n",
       "  </thead>\n",
       "  <tbody>\n",
       "    <tr>\n",
       "      <th>0</th>\n",
       "      <td>12.0</td>\n",
       "      <td>10.0</td>\n",
       "    </tr>\n",
       "    <tr>\n",
       "      <th>1</th>\n",
       "      <td>234.0</td>\n",
       "      <td>230.0</td>\n",
       "    </tr>\n",
       "    <tr>\n",
       "      <th>2</th>\n",
       "      <td>26.0</td>\n",
       "      <td>26.0</td>\n",
       "    </tr>\n",
       "    <tr>\n",
       "      <th>3</th>\n",
       "      <td>20.0</td>\n",
       "      <td>16.0</td>\n",
       "    </tr>\n",
       "    <tr>\n",
       "      <th>4</th>\n",
       "      <td>42.0</td>\n",
       "      <td>42.0</td>\n",
       "    </tr>\n",
       "  </tbody>\n",
       "</table>\n",
       "</div>"
      ],
      "text/plain": [
       "   volume  volume_calc\n",
       "0    12.0         10.0\n",
       "1   234.0        230.0\n",
       "2    26.0         26.0\n",
       "3    20.0         16.0\n",
       "4    42.0         42.0"
      ]
     },
     "execution_count": 2,
     "metadata": {},
     "output_type": "execute_result"
    }
   ],
   "source": [
    "# Чтение данных\n",
    "df = pd.read_csv('traffic_sample.csv')\n",
    "df.head()"
   ]
  },
  {
   "cell_type": "markdown",
   "id": "43661796",
   "metadata": {},
   "source": [
    "### Шаг 1\n",
    "\n",
    "Изучим разницу между переменными volume и volume_calc: посмотрим описательные статистики, определим наличие выбросов и их характер. Избавимся от явных экстремальных выбросов"
   ]
  },
  {
   "cell_type": "code",
   "execution_count": 3,
   "id": "3d450ff4",
   "metadata": {},
   "outputs": [
    {
     "name": "stdout",
     "output_type": "stream",
     "text": [
      "<class 'pandas.core.frame.DataFrame'>\n",
      "RangeIndex: 100000 entries, 0 to 99999\n",
      "Data columns (total 2 columns):\n",
      " #   Column       Non-Null Count   Dtype  \n",
      "---  ------       --------------   -----  \n",
      " 0   volume       100000 non-null  float64\n",
      " 1   volume_calc  100000 non-null  float64\n",
      "dtypes: float64(2)\n",
      "memory usage: 1.5 MB\n"
     ]
    }
   ],
   "source": [
    "# Общая информация по датасету, проверка пропущенных значений\n",
    "df.info()"
   ]
  },
  {
   "cell_type": "code",
   "execution_count": 4,
   "id": "98946605",
   "metadata": {},
   "outputs": [
    {
     "data": {
      "text/plain": [
       "count    100000.000000\n",
       "mean          6.558090\n",
       "std         165.283642\n",
       "min        -235.000000\n",
       "25%           0.000000\n",
       "50%           0.000000\n",
       "75%           0.000000\n",
       "max       21374.000000\n",
       "Name: delta, dtype: float64"
      ]
     },
     "execution_count": 4,
     "metadata": {},
     "output_type": "execute_result"
    }
   ],
   "source": [
    "# Считаем разницу (дельту) между volume и volume_calc, выводим описательные статистики этой разницы\n",
    "df['delta'] = df['volume'] - df['volume_calc']\n",
    "df.delta.describe()"
   ]
  },
  {
   "cell_type": "markdown",
   "id": "f3b34e3e",
   "metadata": {},
   "source": [
    "### Первые выводы: \n",
    "\n",
    "* Большинство значений дельта сосредоточено на 0: первый и третий квартили равны нулю\n",
    "* Имеются сильные выбросы вправо (max = 21 374), которые, однако, не сильно искажают среднее значение\n",
    "* В дельте оказались минусовые значения: это, должно быть, ошибка, так как по условиям задачи volume_calc не может быть меньше значения volume"
   ]
  },
  {
   "cell_type": "code",
   "execution_count": 5,
   "id": "7dcfe496",
   "metadata": {},
   "outputs": [
    {
     "data": {
      "text/plain": [
       "21"
      ]
     },
     "execution_count": 5,
     "metadata": {},
     "output_type": "execute_result"
    }
   ],
   "source": [
    "# Количество минусовых значений дельты\n",
    "len(df[df.delta < 0])"
   ]
  },
  {
   "cell_type": "code",
   "execution_count": 6,
   "id": "39999790",
   "metadata": {},
   "outputs": [
    {
     "data": {
      "text/plain": [
       "0"
      ]
     },
     "execution_count": 6,
     "metadata": {},
     "output_type": "execute_result"
    }
   ],
   "source": [
    "# Таких значений немного, к тому же их отклонение от 0 невелико относительно выбросов справа.\n",
    "# Поэтому эти значения можно прираванять к нулю\n",
    "\n",
    "# ПРИМЕЧАНИЕ. Эти значения можно также заменить на NaN'ы. Их немного, поэтому они не должны искажать результаты,\n",
    "# какую бы стратегию мы не выбрали: приравнять к 0 или заменить NaN'ами\n",
    "\n",
    "# Приравняем в этих строках значения volume и volume_calc\n",
    "df.volume_calc = np.where(df.delta < 0, df.volume, df.volume_calc)\n",
    "\n",
    "# Пересчитываем дельту\n",
    "df['delta'] = df['volume'] - df['volume_calc']\n",
    "\n",
    "# Проверяем количество минусовых значений\n",
    "len(df[df.delta < 0])"
   ]
  },
  {
   "cell_type": "code",
   "execution_count": 7,
   "id": "455df1c1",
   "metadata": {},
   "outputs": [
    {
     "data": {
      "text/plain": [
       "0.22917"
      ]
     },
     "execution_count": 7,
     "metadata": {},
     "output_type": "execute_result"
    }
   ],
   "source": [
    "# Посмотрим на долю значений, где volume отличается от volume_calc (то есть дельта не равна 0)\n",
    "len(df[df.delta != 0]) / len(df)"
   ]
  },
  {
   "cell_type": "code",
   "execution_count": 8,
   "id": "258ca36e",
   "metadata": {},
   "outputs": [],
   "source": [
    "# Таких значений всего 23%"
   ]
  },
  {
   "cell_type": "code",
   "execution_count": 9,
   "id": "8f953327",
   "metadata": {},
   "outputs": [
    {
     "data": {
      "image/png": "[encoded data removed]",
      "text/plain": [
       "<Figure size 432x288 with 1 Axes>"
      ]
     },
     "metadata": {
      "needs_background": "light"
     },
     "output_type": "display_data"
    }
   ],
   "source": [
    "# Посмотрим на распределение переменной дельта на гистограмме, прологарифмировав по шкале y для наглядности\n",
    "plt.hist(df.delta, log=True, bins=40);"
   ]
  },
  {
   "cell_type": "code",
   "execution_count": 10,
   "id": "5779723b",
   "metadata": {},
   "outputs": [
    {
     "data": {
      "image/png": "[encoded data removed]",
      "text/plain": [
       "<Figure size 1152x432 with 1 Axes>"
      ]
     },
     "metadata": {
      "needs_background": "light"
     },
     "output_type": "display_data"
    }
   ],
   "source": [
    "# также распределение по ящику с усами\n",
    "fig, ax = plt.subplots(figsize=(16,6))\n",
    "ax.boxplot(df.delta, vert=False);"
   ]
  },
  {
   "cell_type": "markdown",
   "id": "15939b81",
   "metadata": {},
   "source": [
    "### Промежуточные выводы:\n",
    "\n",
    "Наблюдаются отдельно стоящие экстремальные выбросы справа, от которых можно избавиться, так как они потенциально могут сильно исказить результат предсказаний модели.\n",
    "\n",
    "В качестве \"коридора\" для фильтрации экстремальных выбросов используем три значения стандартного отклонения"
   ]
  },
  {
   "cell_type": "code",
   "execution_count": 11,
   "id": "ec96df5a",
   "metadata": {},
   "outputs": [
    {
     "data": {
      "text/plain": [
       "496"
      ]
     },
     "execution_count": 11,
     "metadata": {},
     "output_type": "execute_result"
    }
   ],
   "source": [
    "# Рассчет трех сигм и округление до целых, так как переменная - количество автомобилей\n",
    "three_sigma = round(3 * df.delta.std())\n",
    "three_sigma"
   ]
  },
  {
   "cell_type": "code",
   "execution_count": 12,
   "id": "d3bd3881",
   "metadata": {},
   "outputs": [
    {
     "data": {
      "text/plain": [
       "176"
      ]
     },
     "execution_count": 12,
     "metadata": {},
     "output_type": "execute_result"
    }
   ],
   "source": [
    "# Количество таких выбросов\n",
    "len(df[df.delta > three_sigma])"
   ]
  },
  {
   "cell_type": "code",
   "execution_count": 13,
   "id": "80abb1b6",
   "metadata": {},
   "outputs": [
    {
     "data": {
      "image/png": "[encoded data removed]",
      "text/plain": [
       "<Figure size 432x288 with 1 Axes>"
      ]
     },
     "metadata": {
      "needs_background": "light"
     },
     "output_type": "display_data"
    }
   ],
   "source": [
    "# Таких выбросов немного относительно размера датасета. Убираем эти 176 выбросов (заменяем значения в строках \n",
    "# на NaN)\n",
    "df.loc[df['delta'] > three_sigma, :] = np.nan\n",
    "\n",
    "# Гистограмма распределения после избавления от экстремальных выбросов\n",
    "plt.hist(df.delta, log=True, bins=30);"
   ]
  },
  {
   "cell_type": "code",
   "execution_count": 14,
   "id": "068ff965",
   "metadata": {},
   "outputs": [
    {
     "data": {
      "text/plain": [
       "count    99824.000000\n",
       "mean         1.751573\n",
       "std         12.080254\n",
       "min          0.000000\n",
       "25%          0.000000\n",
       "50%          0.000000\n",
       "75%          0.000000\n",
       "max        484.000000\n",
       "Name: delta, dtype: float64"
      ]
     },
     "execution_count": 14,
     "metadata": {},
     "output_type": "execute_result"
    }
   ],
   "source": [
    "# Посмотрим еще раз на описательные статистики дельты\n",
    "df.delta.describe()"
   ]
  },
  {
   "cell_type": "markdown",
   "id": "9c874393",
   "metadata": {},
   "source": [
    "### Промежуточные выводы:\n",
    "\n",
    "Распределение дельты стало лучше: среднее значение приблизилось к медиане, а стандартное отклонение значительно снизилось. Однако для улучшения результата можно воспользоваться нормализацией"
   ]
  },
  {
   "cell_type": "markdown",
   "id": "ed58d018",
   "metadata": {},
   "source": [
    "### Шаг 2\n",
    "\n",
    "Нормализуем переменную delta при помощи линейного преобразования: сократим \"коридор\" от минимального до максимального значения в 5 раз. После преобразования дельта будет иметь значение о 0 до 100. После этого определим новые выбросы.\n",
    "\n",
    "*Примечание* С размером \"коридора\" можно поэкспериментировать в зависимости от того, какой результат будет выдавать модель. Возможно, уменьшение/увеличение коридора будет как-то влиять на качество модели."
   ]
  },
  {
   "cell_type": "code",
   "execution_count": 15,
   "id": "36cee7c3",
   "metadata": {},
   "outputs": [
    {
     "data": {
      "text/html": [
       "<div>\n",
       "<style scoped>\n",
       "    .dataframe tbody tr th:only-of-type {\n",
       "        vertical-align: middle;\n",
       "    }\n",
       "\n",
       "    .dataframe tbody tr th {\n",
       "        vertical-align: top;\n",
       "    }\n",
       "\n",
       "    .dataframe thead th {\n",
       "        text-align: right;\n",
       "    }\n",
       "</style>\n",
       "<table border=\"1\" class=\"dataframe\">\n",
       "  <thead>\n",
       "    <tr style=\"text-align: right;\">\n",
       "      <th></th>\n",
       "      <th>volume</th>\n",
       "      <th>volume_calc</th>\n",
       "      <th>delta</th>\n",
       "      <th>delta_norm</th>\n",
       "    </tr>\n",
       "  </thead>\n",
       "  <tbody>\n",
       "    <tr>\n",
       "      <th>0</th>\n",
       "      <td>12.0</td>\n",
       "      <td>10.0</td>\n",
       "      <td>2.0</td>\n",
       "      <td>0.413223</td>\n",
       "    </tr>\n",
       "    <tr>\n",
       "      <th>1</th>\n",
       "      <td>234.0</td>\n",
       "      <td>230.0</td>\n",
       "      <td>4.0</td>\n",
       "      <td>0.826446</td>\n",
       "    </tr>\n",
       "    <tr>\n",
       "      <th>2</th>\n",
       "      <td>26.0</td>\n",
       "      <td>26.0</td>\n",
       "      <td>0.0</td>\n",
       "      <td>0.000000</td>\n",
       "    </tr>\n",
       "    <tr>\n",
       "      <th>3</th>\n",
       "      <td>20.0</td>\n",
       "      <td>16.0</td>\n",
       "      <td>4.0</td>\n",
       "      <td>0.826446</td>\n",
       "    </tr>\n",
       "    <tr>\n",
       "      <th>4</th>\n",
       "      <td>42.0</td>\n",
       "      <td>42.0</td>\n",
       "      <td>0.0</td>\n",
       "      <td>0.000000</td>\n",
       "    </tr>\n",
       "  </tbody>\n",
       "</table>\n",
       "</div>"
      ],
      "text/plain": [
       "   volume  volume_calc  delta  delta_norm\n",
       "0    12.0         10.0    2.0    0.413223\n",
       "1   234.0        230.0    4.0    0.826446\n",
       "2    26.0         26.0    0.0    0.000000\n",
       "3    20.0         16.0    4.0    0.826446\n",
       "4    42.0         42.0    0.0    0.000000"
      ]
     },
     "execution_count": 15,
     "metadata": {},
     "output_type": "execute_result"
    }
   ],
   "source": [
    "# Применяем нормализацию из библиотеки sklearn\n",
    "df['delta_norm'] = MinMaxScaler(feature_range=(0,100)).fit_transform(np.array(df.delta).reshape(-1,1))\n",
    "df.head()"
   ]
  },
  {
   "cell_type": "code",
   "execution_count": 16,
   "id": "4d695fc3",
   "metadata": {},
   "outputs": [
    {
     "data": {
      "text/html": [
       "<div>\n",
       "<style scoped>\n",
       "    .dataframe tbody tr th:only-of-type {\n",
       "        vertical-align: middle;\n",
       "    }\n",
       "\n",
       "    .dataframe tbody tr th {\n",
       "        vertical-align: top;\n",
       "    }\n",
       "\n",
       "    .dataframe thead th {\n",
       "        text-align: right;\n",
       "    }\n",
       "</style>\n",
       "<table border=\"1\" class=\"dataframe\">\n",
       "  <thead>\n",
       "    <tr style=\"text-align: right;\">\n",
       "      <th></th>\n",
       "      <th>volume</th>\n",
       "      <th>volume_calc</th>\n",
       "      <th>delta</th>\n",
       "      <th>delta_norm</th>\n",
       "      <th>delta_norm_round</th>\n",
       "    </tr>\n",
       "  </thead>\n",
       "  <tbody>\n",
       "    <tr>\n",
       "      <th>0</th>\n",
       "      <td>12.0</td>\n",
       "      <td>10.0</td>\n",
       "      <td>2.0</td>\n",
       "      <td>0.413223</td>\n",
       "      <td>0.0</td>\n",
       "    </tr>\n",
       "    <tr>\n",
       "      <th>1</th>\n",
       "      <td>234.0</td>\n",
       "      <td>230.0</td>\n",
       "      <td>4.0</td>\n",
       "      <td>0.826446</td>\n",
       "      <td>1.0</td>\n",
       "    </tr>\n",
       "    <tr>\n",
       "      <th>2</th>\n",
       "      <td>26.0</td>\n",
       "      <td>26.0</td>\n",
       "      <td>0.0</td>\n",
       "      <td>0.000000</td>\n",
       "      <td>0.0</td>\n",
       "    </tr>\n",
       "    <tr>\n",
       "      <th>3</th>\n",
       "      <td>20.0</td>\n",
       "      <td>16.0</td>\n",
       "      <td>4.0</td>\n",
       "      <td>0.826446</td>\n",
       "      <td>1.0</td>\n",
       "    </tr>\n",
       "    <tr>\n",
       "      <th>4</th>\n",
       "      <td>42.0</td>\n",
       "      <td>42.0</td>\n",
       "      <td>0.0</td>\n",
       "      <td>0.000000</td>\n",
       "      <td>0.0</td>\n",
       "    </tr>\n",
       "  </tbody>\n",
       "</table>\n",
       "</div>"
      ],
      "text/plain": [
       "   volume  volume_calc  delta  delta_norm  delta_norm_round\n",
       "0    12.0         10.0    2.0    0.413223               0.0\n",
       "1   234.0        230.0    4.0    0.826446               1.0\n",
       "2    26.0         26.0    0.0    0.000000               0.0\n",
       "3    20.0         16.0    4.0    0.826446               1.0\n",
       "4    42.0         42.0    0.0    0.000000               0.0"
      ]
     },
     "execution_count": 16,
     "metadata": {},
     "output_type": "execute_result"
    }
   ],
   "source": [
    "# Округлим значения нормализованной дельты до целых чисел, так как речь в задаче идет об автомобилях\n",
    "\n",
    "# ПРИМЕЧАНИЕ. Здесь снова, на мой взгляд, надо смотреть на результаты модели. Возможно, округлять стоит не \n",
    "# на этом шаге, а на более поздних этапах. Можно было бы попробовать обучить модель на разных данных и посмотреть \n",
    "# на метрики качества\n",
    "\n",
    "df['delta_norm_round'] = np.round(df.delta_norm)\n",
    "df.head()"
   ]
  },
  {
   "cell_type": "code",
   "execution_count": 17,
   "id": "2f4a83b0",
   "metadata": {},
   "outputs": [
    {
     "data": {
      "text/plain": [
       "count    99824.000000\n",
       "mean         0.324241\n",
       "std          2.498133\n",
       "min          0.000000\n",
       "25%          0.000000\n",
       "50%          0.000000\n",
       "75%          0.000000\n",
       "max        100.000000\n",
       "Name: delta_norm_round, dtype: float64"
      ]
     },
     "execution_count": 17,
     "metadata": {},
     "output_type": "execute_result"
    }
   ],
   "source": [
    "# Описательные статистики получившейся дельты\n",
    "df.delta_norm_round.describe()"
   ]
  },
  {
   "cell_type": "code",
   "execution_count": 18,
   "id": "7636672d",
   "metadata": {},
   "outputs": [
    {
     "data": {
      "image/png": "[encoded data removed]",
      "text/plain": [
       "<Figure size 432x288 with 1 Axes>"
      ]
     },
     "metadata": {
      "needs_background": "light"
     },
     "output_type": "display_data"
    }
   ],
   "source": [
    "# Гистограмма распределения\n",
    "plt.hist(df.delta_norm_round, log=True, bins=40);"
   ]
  },
  {
   "cell_type": "code",
   "execution_count": 19,
   "id": "bf0770f2",
   "metadata": {},
   "outputs": [
    {
     "data": {
      "text/plain": [
       "24"
      ]
     },
     "execution_count": 19,
     "metadata": {},
     "output_type": "execute_result"
    }
   ],
   "source": [
    "# В районах значения дельты 80 образовалась устойчивая \"яма\", которая сохраняется при разном количестве столбцов \n",
    "# гистограммы (bins). Эти значения также можно трактовать как выбросы, так как \"яма\" говорит о том, что эти выбросы\n",
    "# достаточно сильно отличаются от основного распределения\n",
    "\n",
    "# Количество значений правее \"ямы\"\n",
    "len(df[df.delta_norm_round >= 80])"
   ]
  },
  {
   "cell_type": "code",
   "execution_count": 20,
   "id": "69152294",
   "metadata": {},
   "outputs": [
    {
     "data": {
      "image/png": "[encoded data removed]",
      "text/plain": [
       "<Figure size 432x288 with 1 Axes>"
      ]
     },
     "metadata": {
      "needs_background": "light"
     },
     "output_type": "display_data"
    }
   ],
   "source": [
    "# Убираем эти 24 выброса (заменяем значения в строках на NaN)\n",
    "df.loc[df['delta_norm_round'] >= 80, :] = np.nan\n",
    "\n",
    "# Гистограмма распределения после избавления от экстремальных выбросов\n",
    "plt.hist(df.delta_norm_round, log=True, bins=30);"
   ]
  },
  {
   "cell_type": "code",
   "execution_count": 21,
   "id": "81f3324a",
   "metadata": {},
   "outputs": [
    {
     "data": {
      "text/plain": [
       "count    99800.000000\n",
       "mean         0.302886\n",
       "std          2.082951\n",
       "min          0.000000\n",
       "25%          0.000000\n",
       "50%          0.000000\n",
       "75%          0.000000\n",
       "max         76.000000\n",
       "Name: delta_norm_round, dtype: float64"
      ]
     },
     "execution_count": 21,
     "metadata": {},
     "output_type": "execute_result"
    }
   ],
   "source": [
    "# Снова описательные статистики дельты\n",
    "df.delta_norm_round.describe()"
   ]
  },
  {
   "cell_type": "markdown",
   "id": "6a146021",
   "metadata": {},
   "source": [
    "### Промежуточные выводы:\n",
    "\n",
    "Среднее значение теперь очень близко к медиане, а стандартное отклонение всего 2"
   ]
  },
  {
   "cell_type": "markdown",
   "id": "e1c3f574",
   "metadata": {},
   "source": [
    "### Шаг 3\n",
    "\n",
    "Создадим новую переменную - исправленную volume_calc, которая представляет собой volume минус нормализованное значение дельты. Таким образом, разница между реальным количеством автомобилей и тем, на котором должна учиться модель, станет минимальным"
   ]
  },
  {
   "cell_type": "code",
   "execution_count": 22,
   "id": "132efe3a",
   "metadata": {},
   "outputs": [
    {
     "data": {
      "text/html": [
       "<div>\n",
       "<style scoped>\n",
       "    .dataframe tbody tr th:only-of-type {\n",
       "        vertical-align: middle;\n",
       "    }\n",
       "\n",
       "    .dataframe tbody tr th {\n",
       "        vertical-align: top;\n",
       "    }\n",
       "\n",
       "    .dataframe thead th {\n",
       "        text-align: right;\n",
       "    }\n",
       "</style>\n",
       "<table border=\"1\" class=\"dataframe\">\n",
       "  <thead>\n",
       "    <tr style=\"text-align: right;\">\n",
       "      <th></th>\n",
       "      <th>volume</th>\n",
       "      <th>volume_calc</th>\n",
       "      <th>delta</th>\n",
       "      <th>delta_norm</th>\n",
       "      <th>delta_norm_round</th>\n",
       "      <th>volume_calc_norm</th>\n",
       "    </tr>\n",
       "  </thead>\n",
       "  <tbody>\n",
       "    <tr>\n",
       "      <th>0</th>\n",
       "      <td>12.0</td>\n",
       "      <td>10.0</td>\n",
       "      <td>2.0</td>\n",
       "      <td>0.413223</td>\n",
       "      <td>0.0</td>\n",
       "      <td>12.0</td>\n",
       "    </tr>\n",
       "    <tr>\n",
       "      <th>1</th>\n",
       "      <td>234.0</td>\n",
       "      <td>230.0</td>\n",
       "      <td>4.0</td>\n",
       "      <td>0.826446</td>\n",
       "      <td>1.0</td>\n",
       "      <td>233.0</td>\n",
       "    </tr>\n",
       "    <tr>\n",
       "      <th>2</th>\n",
       "      <td>26.0</td>\n",
       "      <td>26.0</td>\n",
       "      <td>0.0</td>\n",
       "      <td>0.000000</td>\n",
       "      <td>0.0</td>\n",
       "      <td>26.0</td>\n",
       "    </tr>\n",
       "    <tr>\n",
       "      <th>3</th>\n",
       "      <td>20.0</td>\n",
       "      <td>16.0</td>\n",
       "      <td>4.0</td>\n",
       "      <td>0.826446</td>\n",
       "      <td>1.0</td>\n",
       "      <td>19.0</td>\n",
       "    </tr>\n",
       "    <tr>\n",
       "      <th>4</th>\n",
       "      <td>42.0</td>\n",
       "      <td>42.0</td>\n",
       "      <td>0.0</td>\n",
       "      <td>0.000000</td>\n",
       "      <td>0.0</td>\n",
       "      <td>42.0</td>\n",
       "    </tr>\n",
       "  </tbody>\n",
       "</table>\n",
       "</div>"
      ],
      "text/plain": [
       "   volume  volume_calc  delta  delta_norm  delta_norm_round  volume_calc_norm\n",
       "0    12.0         10.0    2.0    0.413223               0.0              12.0\n",
       "1   234.0        230.0    4.0    0.826446               1.0             233.0\n",
       "2    26.0         26.0    0.0    0.000000               0.0              26.0\n",
       "3    20.0         16.0    4.0    0.826446               1.0              19.0\n",
       "4    42.0         42.0    0.0    0.000000               0.0              42.0"
      ]
     },
     "execution_count": 22,
     "metadata": {},
     "output_type": "execute_result"
    }
   ],
   "source": [
    "df['volume_calc_norm'] = df.volume - df.delta_norm_round\n",
    "df.head()"
   ]
  },
  {
   "cell_type": "markdown",
   "id": "82666ecc",
   "metadata": {},
   "source": [
    "### Общие выводы\n",
    "\n",
    "Таким образом, мы отобрали 99 800 значений из 100 000 исходных, пригодных для обучения модели. На первом шаге мы избавились от минусовых значений разницы межды volume и volume_calc, так как таких значений не должно быть по условиям задачи. Далее мы убрали экстремальные выбросы справа: те значения, которые превышают три стандартных отклонения. Затем мы применили нормализацию и поместили все значения разницы-дельты в \"коридор\" от 0 до 100, после чего убрали экстремальные выбросы, которые получились после нормализации. Наконец, задали новую переменную volume_calc_norm, которая представляет собой volume минус нормализованная дельта. Эту новую переменную можно использовать для обучения модели.\n",
    "\n",
    "При этом необходимо понимать, что в вопросе определения выбросов не может быть идеального решения. Многое зависит от результатов обучения непосредственно самой модели и получившихся метрик качества модели. Поэтому на каждом шаге возможны другие тактики: можно увеличить / уменьшить размер \"коридора\" при нормализации, проводить округление до целых самой дельты, или переменной volume_calc_norm, или обучать модель на дробных значениях и т.д."
   ]
  },
  {
   "cell_type": "code",
   "execution_count": null,
   "id": "4df706c9",
   "metadata": {},
   "outputs": [],
   "source": []
  }
 ],
 "metadata": {
  "kernelspec": {
   "display_name": "Python 3",
   "language": "python",
   "name": "python3"
  },
  "language_info": {
   "codemirror_mode": {
    "name": "ipython",
    "version": 3
   },
   "file_extension": ".py",
   "mimetype": "text/x-python",
   "name": "python",
   "nbconvert_exporter": "python",
   "pygments_lexer": "ipython3",
   "version": "3.7.10"
  }
 },
 "nbformat": 4,
 "nbformat_minor": 5
}
