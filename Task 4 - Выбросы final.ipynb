{
 "cells": [
  {
   "cell_type": "markdown",
   "id": "305b86cb",
   "metadata": {},
   "source": [
    "## Задание 4. Найти выбросы\n",
    "\n",
    "#### Описание задачи:\n",
    "\n",
    "В этом датасете – выборка из значений величины трафика на одной из российских дорог. В переменной **volume** находится истинное количество транспортных средств, зарегистрированное на определенном километре в определенное время, а в **volume_calc** – это же количество минус количество транспортных средств, чье местоположение по тем или иным причинам разглашать нельзя.\n",
    "\n",
    "Для соревнования по прогнозированию ДТП в датасете необходимо было оставить только “публичную” переменную **volume_calc**, однако в тех случаях, когда разрыв между **volume** и **volume_calc** аномально велик, эта переменная не информативна для ML-модели. Поэтому было решено оставить лишь информативные значения **volume_calc**, а прочие заменить на пропуски.\n",
    "\n",
    "Предложите стратегию, какие значения **volume_calc** стоит заменить на пропуски. *Подсказка: при построении моделей машинного обучения количественные переменные обычно нормализуются, поэтому любая переменная там может быть представлена с точностью до линейного преобразования.*"
   ]
  },
  {
   "cell_type": "code",
   "execution_count": 1,
   "id": "19d98cda",
   "metadata": {},
   "outputs": [],
   "source": [
    "# Импорт библиотек\n",
    "import pandas as pd\n",
    "import numpy as np\n",
    "\n",
    "import matplotlib\n",
    "import matplotlib.pyplot as plt\n",
    "\n",
    "from sklearn.preprocessing import MinMaxScaler\n",
    "\n",
    "matplotlib.style.use('seaborn')\n",
    "%matplotlib inline"
   ]
  },
  {
   "cell_type": "code",
   "execution_count": 2,
   "id": "ac6186bd",
   "metadata": {},
   "outputs": [
    {
     "data": {
      "text/html": [
       "<div>\n",
       "<style scoped>\n",
       "    .dataframe tbody tr th:only-of-type {\n",
       "        vertical-align: middle;\n",
       "    }\n",
       "\n",
       "    .dataframe tbody tr th {\n",
       "        vertical-align: top;\n",
       "    }\n",
       "\n",
       "    .dataframe thead th {\n",
       "        text-align: right;\n",
       "    }\n",
       "</style>\n",
       "<table border=\"1\" class=\"dataframe\">\n",
       "  <thead>\n",
       "    <tr style=\"text-align: right;\">\n",
       "      <th></th>\n",
       "      <th>volume</th>\n",
       "      <th>volume_calc</th>\n",
       "    </tr>\n",
       "  </thead>\n",
       "  <tbody>\n",
       "    <tr>\n",
       "      <th>0</th>\n",
       "      <td>12.0</td>\n",
       "      <td>10.0</td>\n",
       "    </tr>\n",
       "    <tr>\n",
       "      <th>1</th>\n",
       "      <td>234.0</td>\n",
       "      <td>230.0</td>\n",
       "    </tr>\n",
       "    <tr>\n",
       "      <th>2</th>\n",
       "      <td>26.0</td>\n",
       "      <td>26.0</td>\n",
       "    </tr>\n",
       "    <tr>\n",
       "      <th>3</th>\n",
       "      <td>20.0</td>\n",
       "      <td>16.0</td>\n",
       "    </tr>\n",
       "    <tr>\n",
       "      <th>4</th>\n",
       "      <td>42.0</td>\n",
       "      <td>42.0</td>\n",
       "    </tr>\n",
       "  </tbody>\n",
       "</table>\n",
       "</div>"
      ],
      "text/plain": [
       "   volume  volume_calc\n",
       "0    12.0         10.0\n",
       "1   234.0        230.0\n",
       "2    26.0         26.0\n",
       "3    20.0         16.0\n",
       "4    42.0         42.0"
      ]
     },
     "execution_count": 2,
     "metadata": {},
     "output_type": "execute_result"
    }
   ],
   "source": [
    "# Чтение данных\n",
    "df = pd.read_csv('traffic_sample.csv')\n",
    "df.head()"
   ]
  },
  {
   "cell_type": "markdown",
   "id": "352ed876",
   "metadata": {},
   "source": [
    "### Шаг 1\n",
    "\n",
    "Изучим разницу между переменными volume и volume_calc: посмотрим описательные статистики, определим характер распределения переменных"
   ]
  },
  {
   "cell_type": "code",
   "execution_count": 3,
   "id": "6b7a9dfc",
   "metadata": {},
   "outputs": [
    {
     "name": "stdout",
     "output_type": "stream",
     "text": [
      "<class 'pandas.core.frame.DataFrame'>\n",
      "RangeIndex: 100000 entries, 0 to 99999\n",
      "Data columns (total 2 columns):\n",
      " #   Column       Non-Null Count   Dtype  \n",
      "---  ------       --------------   -----  \n",
      " 0   volume       100000 non-null  float64\n",
      " 1   volume_calc  100000 non-null  float64\n",
      "dtypes: float64(2)\n",
      "memory usage: 1.5 MB\n"
     ]
    }
   ],
   "source": [
    "# Общая информация по датасету, проверка пропущенных значений\n",
    "df.info()"
   ]
  },
  {
   "cell_type": "code",
   "execution_count": 4,
   "id": "a988ed7f",
   "metadata": {},
   "outputs": [
    {
     "data": {
      "text/plain": [
       "count    100000.000000\n",
       "mean          6.558090\n",
       "std         165.283642\n",
       "min        -235.000000\n",
       "25%           0.000000\n",
       "50%           0.000000\n",
       "75%           0.000000\n",
       "max       21374.000000\n",
       "Name: delta, dtype: float64"
      ]
     },
     "execution_count": 4,
     "metadata": {},
     "output_type": "execute_result"
    }
   ],
   "source": [
    "# Считаем разницу (дельту) между volume и volume_calc, выводим описательные статистики этой разницы\n",
    "df['delta'] = df['volume'] - df['volume_calc']\n",
    "df.delta.describe()"
   ]
  },
  {
   "cell_type": "code",
   "execution_count": 5,
   "id": "824d634a",
   "metadata": {},
   "outputs": [
    {
     "data": {
      "image/png": "[encoded data removed]",
      "text/plain": [
       "<Figure size 432x288 with 1 Axes>"
      ]
     },
     "metadata": {
      "needs_background": "light"
     },
     "output_type": "display_data"
    }
   ],
   "source": [
    "# Распределение переменной дельта на гистограмме, (прологарифмирована по шкале y для наглядности)\n",
    "plt.hist(df.delta, log=True, bins=40);"
   ]
  },
  {
   "cell_type": "code",
   "execution_count": 6,
   "id": "48957d22",
   "metadata": {},
   "outputs": [
    {
     "data": {
      "image/png": "[encoded data removed]",
      "text/plain": [
       "<Figure size 1008x432 with 1 Axes>"
      ]
     },
     "metadata": {
      "needs_background": "light"
     },
     "output_type": "display_data"
    }
   ],
   "source": [
    "# также распределение по ящику с усами\n",
    "fig, ax = plt.subplots(figsize=(14,6))\n",
    "ax.boxplot(df.delta, vert=False);"
   ]
  },
  {
   "cell_type": "markdown",
   "id": "1af77753",
   "metadata": {},
   "source": [
    "### Первые выводы: \n",
    "\n",
    "* Большинство значений дельта сосредоточено на 0: первый и третий квартили равны нулю\n",
    "* Имеются сильные выбросы вправо (max = 21 374), которые, однако, не сильно искажают среднее значение\n",
    "* В дельте оказались минусовые значения: это, должно быть, ошибка, так как по условиям задачи volume_calc не может быть меньше значения volume"
   ]
  },
  {
   "cell_type": "markdown",
   "id": "1eff949a",
   "metadata": {},
   "source": [
    "### Шаг 2\n",
    "\n",
    "Скорее всего, существует корреляция между общим количеством автомобилей и \"официальным\" количеством, а также между общим количеством и количеством \"секретных\" автомобилей - то есть дельтой. Поверим эти связи. Особенно интересна нам связь между volume и delta, так как если определить закономерность формирования дельты, можно будет определить выбросы"
   ]
  },
  {
   "cell_type": "code",
   "execution_count": 7,
   "id": "a435819b",
   "metadata": {},
   "outputs": [
    {
     "data": {
      "text/html": [
       "<div>\n",
       "<style scoped>\n",
       "    .dataframe tbody tr th:only-of-type {\n",
       "        vertical-align: middle;\n",
       "    }\n",
       "\n",
       "    .dataframe tbody tr th {\n",
       "        vertical-align: top;\n",
       "    }\n",
       "\n",
       "    .dataframe thead th {\n",
       "        text-align: right;\n",
       "    }\n",
       "</style>\n",
       "<table border=\"1\" class=\"dataframe\">\n",
       "  <thead>\n",
       "    <tr style=\"text-align: right;\">\n",
       "      <th></th>\n",
       "      <th>volume</th>\n",
       "      <th>volume_calc</th>\n",
       "      <th>delta</th>\n",
       "    </tr>\n",
       "  </thead>\n",
       "  <tbody>\n",
       "    <tr>\n",
       "      <th>volume</th>\n",
       "      <td>1.000000</td>\n",
       "      <td>0.851291</td>\n",
       "      <td>0.522359</td>\n",
       "    </tr>\n",
       "    <tr>\n",
       "      <th>volume_calc</th>\n",
       "      <td>0.851291</td>\n",
       "      <td>1.000000</td>\n",
       "      <td>-0.002741</td>\n",
       "    </tr>\n",
       "    <tr>\n",
       "      <th>delta</th>\n",
       "      <td>0.522359</td>\n",
       "      <td>-0.002741</td>\n",
       "      <td>1.000000</td>\n",
       "    </tr>\n",
       "  </tbody>\n",
       "</table>\n",
       "</div>"
      ],
      "text/plain": [
       "               volume  volume_calc     delta\n",
       "volume       1.000000     0.851291  0.522359\n",
       "volume_calc  0.851291     1.000000 -0.002741\n",
       "delta        0.522359    -0.002741  1.000000"
      ]
     },
     "execution_count": 7,
     "metadata": {},
     "output_type": "execute_result"
    }
   ],
   "source": [
    "# Коэффициенты корреляции\n",
    "df.corr()"
   ]
  },
  {
   "cell_type": "markdown",
   "id": "bbc482e0",
   "metadata": {},
   "source": [
    "Действительно, наблюдается сильная прямая связь между общим и \"официальным\" количеством автомобилей, ведь большинство значений дельта сосредоточено около 0. Связь между volume и дельтой также значительна, однако меньше. Нашей целью будет увеличение корреляции между последними"
   ]
  },
  {
   "cell_type": "code",
   "execution_count": 8,
   "id": "2ec7f698",
   "metadata": {},
   "outputs": [
    {
     "data": {
      "image/png": "[encoded data removed]",
      "text/plain": [
       "<Figure size 864x576 with 1 Axes>"
      ]
     },
     "metadata": {
      "needs_background": "light"
     },
     "output_type": "display_data"
    }
   ],
   "source": [
    "# Посмотрим на связь на графике\n",
    "fig, ax = plt.subplots(figsize=(12,8))\n",
    "plt.scatter(df.volume, df.delta)\n",
    "ax.set_xlabel('volume')\n",
    "ax.set_ylabel('delta')\n",
    "ax.set_title('Соотношение volume и delta, коэффициент корреляции %.4f' % (\n",
    "    df.volume.corr(df.delta))\n",
    "    , fontsize=18);"
   ]
  },
  {
   "cell_type": "markdown",
   "id": "d5d5bb34",
   "metadata": {},
   "source": [
    "Наблюдается ожидаемая четкая закономерность: чем больше трафик, тем больше \"секретных\" автомобилей. Этой закономерности подчиняются также далеко отстоящие правые значения.\n",
    "\n",
    "Значения, которые не подчиняются закономерности, сосредоточены по горизонтали при x > 800 и малых значениях y. В этих точках, несмотря на большое количество трафика, количество \"секретных\" автомобилей близко к нулю. Также выбросами является небольшое количество минусовых значений дельты, которых не может быть по условиям задачи. Отфильтруем эти значения."
   ]
  },
  {
   "cell_type": "code",
   "execution_count": 9,
   "id": "d64cd5f7",
   "metadata": {},
   "outputs": [
    {
     "data": {
      "text/plain": [
       "4562"
      ]
     },
     "execution_count": 9,
     "metadata": {},
     "output_type": "execute_result"
    }
   ],
   "source": [
    "# Отбор выбросов по условию. Количество значений\n",
    "anomal = df[(df.volume > 800) & (df.delta < 500) | (df.delta < 0)]\n",
    "len(anomal)"
   ]
  },
  {
   "cell_type": "code",
   "execution_count": 10,
   "id": "42aa5105",
   "metadata": {},
   "outputs": [
    {
     "data": {
      "text/plain": [
       "95438"
      ]
     },
     "execution_count": 10,
     "metadata": {},
     "output_type": "execute_result"
    }
   ],
   "source": [
    "# Отбор значений без выбросов, количество значений\n",
    "df_clear = df[~df.index.isin(anomal.index)]\n",
    "len(df_clear)"
   ]
  },
  {
   "cell_type": "code",
   "execution_count": 11,
   "id": "6c78c16c",
   "metadata": {},
   "outputs": [
    {
     "data": {
      "image/png": "[encoded data removed]",
      "text/plain": [
       "<Figure size 864x576 with 1 Axes>"
      ]
     },
     "metadata": {
      "needs_background": "light"
     },
     "output_type": "display_data"
    }
   ],
   "source": [
    "# Обновленное соотношение volume и delta на графике\n",
    "fig, ax = plt.subplots(figsize=(12,8))\n",
    "plt.scatter(df_clear.volume, df_clear.delta)\n",
    "ax.set_xlabel('volume')\n",
    "ax.set_ylabel('delta')\n",
    "ax.set_title('Соотношение volume и delta, коэффициент корреляции %.4f' % (\n",
    "    df_clear.volume.corr(df_clear.delta))\n",
    "    , fontsize=18);"
   ]
  },
  {
   "cell_type": "code",
   "execution_count": 12,
   "id": "57fe7a7d",
   "metadata": {},
   "outputs": [
    {
     "data": {
      "text/html": [
       "<div>\n",
       "<style scoped>\n",
       "    .dataframe tbody tr th:only-of-type {\n",
       "        vertical-align: middle;\n",
       "    }\n",
       "\n",
       "    .dataframe tbody tr th {\n",
       "        vertical-align: top;\n",
       "    }\n",
       "\n",
       "    .dataframe thead th {\n",
       "        text-align: right;\n",
       "    }\n",
       "</style>\n",
       "<table border=\"1\" class=\"dataframe\">\n",
       "  <thead>\n",
       "    <tr style=\"text-align: right;\">\n",
       "      <th></th>\n",
       "      <th>volume</th>\n",
       "      <th>volume_calc</th>\n",
       "      <th>delta</th>\n",
       "    </tr>\n",
       "  </thead>\n",
       "  <tbody>\n",
       "    <tr>\n",
       "      <th>volume</th>\n",
       "      <td>1.000000</td>\n",
       "      <td>0.735617</td>\n",
       "      <td>0.674084</td>\n",
       "    </tr>\n",
       "    <tr>\n",
       "      <th>volume_calc</th>\n",
       "      <td>0.735617</td>\n",
       "      <td>1.000000</td>\n",
       "      <td>-0.004495</td>\n",
       "    </tr>\n",
       "    <tr>\n",
       "      <th>delta</th>\n",
       "      <td>0.674084</td>\n",
       "      <td>-0.004495</td>\n",
       "      <td>1.000000</td>\n",
       "    </tr>\n",
       "  </tbody>\n",
       "</table>\n",
       "</div>"
      ],
      "text/plain": [
       "               volume  volume_calc     delta\n",
       "volume       1.000000     0.735617  0.674084\n",
       "volume_calc  0.735617     1.000000 -0.004495\n",
       "delta        0.674084    -0.004495  1.000000"
      ]
     },
     "execution_count": 12,
     "metadata": {},
     "output_type": "execute_result"
    }
   ],
   "source": [
    "# Коэффициенты корреляции\n",
    "df_clear.corr()"
   ]
  },
  {
   "cell_type": "markdown",
   "id": "dc3a2a80",
   "metadata": {},
   "source": [
    "Корреляция между общим и \"официальным\" количеством автомобилей ожидаемо снизилась, так как теперь меньше значений разницы равных нулю между ними. Сила связи между общим количеством и дельта повысилась, так как мы обнаружили и усилили имевшуюся закономерность: чем выше трафик, тем больше количество \"секретных\" автомобилей"
   ]
  },
  {
   "cell_type": "code",
   "execution_count": 13,
   "id": "46f73032",
   "metadata": {},
   "outputs": [
    {
     "data": {
      "text/plain": [
       "4562"
      ]
     },
     "execution_count": 13,
     "metadata": {},
     "output_type": "execute_result"
    }
   ],
   "source": [
    "# Заменяем выбросы на NaN'ы в исходном датафрейме\n",
    "df.loc[df.index.isin(anomal.index), :] = np.nan\n",
    "\n",
    "# Проверяем количество NaN'ов\n",
    "len(df[df.isnull().all(1)])"
   ]
  },
  {
   "cell_type": "markdown",
   "id": "f93b8588",
   "metadata": {},
   "source": [
    "### Шаг 3\n",
    "\n",
    "Нормализуем переменную delta при помощи линейного преобразования: поместим все значения дельты в коридор, например, от 0 до 5000. Затем пересчитаем значение volume_calc\n",
    "\n",
    "*Примечание* Размер \"коридора\", конечно, будет зависеть от конкретной модели и от величины других используемых фичей. Здесь это скорее просто пример"
   ]
  },
  {
   "cell_type": "code",
   "execution_count": 14,
   "id": "a765d24a",
   "metadata": {},
   "outputs": [
    {
     "data": {
      "text/html": [
       "<div>\n",
       "<style scoped>\n",
       "    .dataframe tbody tr th:only-of-type {\n",
       "        vertical-align: middle;\n",
       "    }\n",
       "\n",
       "    .dataframe tbody tr th {\n",
       "        vertical-align: top;\n",
       "    }\n",
       "\n",
       "    .dataframe thead th {\n",
       "        text-align: right;\n",
       "    }\n",
       "</style>\n",
       "<table border=\"1\" class=\"dataframe\">\n",
       "  <thead>\n",
       "    <tr style=\"text-align: right;\">\n",
       "      <th></th>\n",
       "      <th>volume</th>\n",
       "      <th>volume_calc</th>\n",
       "      <th>delta</th>\n",
       "      <th>delta_norm</th>\n",
       "    </tr>\n",
       "  </thead>\n",
       "  <tbody>\n",
       "    <tr>\n",
       "      <th>0</th>\n",
       "      <td>12.0</td>\n",
       "      <td>10.0</td>\n",
       "      <td>2.0</td>\n",
       "      <td>0.467858</td>\n",
       "    </tr>\n",
       "    <tr>\n",
       "      <th>1</th>\n",
       "      <td>234.0</td>\n",
       "      <td>230.0</td>\n",
       "      <td>4.0</td>\n",
       "      <td>0.935716</td>\n",
       "    </tr>\n",
       "    <tr>\n",
       "      <th>2</th>\n",
       "      <td>26.0</td>\n",
       "      <td>26.0</td>\n",
       "      <td>0.0</td>\n",
       "      <td>0.000000</td>\n",
       "    </tr>\n",
       "    <tr>\n",
       "      <th>3</th>\n",
       "      <td>20.0</td>\n",
       "      <td>16.0</td>\n",
       "      <td>4.0</td>\n",
       "      <td>0.935716</td>\n",
       "    </tr>\n",
       "    <tr>\n",
       "      <th>4</th>\n",
       "      <td>42.0</td>\n",
       "      <td>42.0</td>\n",
       "      <td>0.0</td>\n",
       "      <td>0.000000</td>\n",
       "    </tr>\n",
       "  </tbody>\n",
       "</table>\n",
       "</div>"
      ],
      "text/plain": [
       "   volume  volume_calc  delta  delta_norm\n",
       "0    12.0         10.0    2.0    0.467858\n",
       "1   234.0        230.0    4.0    0.935716\n",
       "2    26.0         26.0    0.0    0.000000\n",
       "3    20.0         16.0    4.0    0.935716\n",
       "4    42.0         42.0    0.0    0.000000"
      ]
     },
     "execution_count": 14,
     "metadata": {},
     "output_type": "execute_result"
    }
   ],
   "source": [
    "# Применяем нормализацию из библиотеки sklearn\n",
    "df['delta_norm'] = MinMaxScaler(feature_range=(0,5000)).fit_transform(np.array(df.delta).reshape(-1,1))\n",
    "df.head()"
   ]
  },
  {
   "cell_type": "code",
   "execution_count": 15,
   "id": "dab6e5f7",
   "metadata": {},
   "outputs": [
    {
     "data": {
      "text/html": [
       "<div>\n",
       "<style scoped>\n",
       "    .dataframe tbody tr th:only-of-type {\n",
       "        vertical-align: middle;\n",
       "    }\n",
       "\n",
       "    .dataframe tbody tr th {\n",
       "        vertical-align: top;\n",
       "    }\n",
       "\n",
       "    .dataframe thead th {\n",
       "        text-align: right;\n",
       "    }\n",
       "</style>\n",
       "<table border=\"1\" class=\"dataframe\">\n",
       "  <thead>\n",
       "    <tr style=\"text-align: right;\">\n",
       "      <th></th>\n",
       "      <th>volume</th>\n",
       "      <th>volume_calc</th>\n",
       "      <th>delta</th>\n",
       "      <th>delta_norm</th>\n",
       "      <th>delta_norm_round</th>\n",
       "    </tr>\n",
       "  </thead>\n",
       "  <tbody>\n",
       "    <tr>\n",
       "      <th>0</th>\n",
       "      <td>12.0</td>\n",
       "      <td>10.0</td>\n",
       "      <td>2.0</td>\n",
       "      <td>0.467858</td>\n",
       "      <td>0.0</td>\n",
       "    </tr>\n",
       "    <tr>\n",
       "      <th>1</th>\n",
       "      <td>234.0</td>\n",
       "      <td>230.0</td>\n",
       "      <td>4.0</td>\n",
       "      <td>0.935716</td>\n",
       "      <td>1.0</td>\n",
       "    </tr>\n",
       "    <tr>\n",
       "      <th>2</th>\n",
       "      <td>26.0</td>\n",
       "      <td>26.0</td>\n",
       "      <td>0.0</td>\n",
       "      <td>0.000000</td>\n",
       "      <td>0.0</td>\n",
       "    </tr>\n",
       "    <tr>\n",
       "      <th>3</th>\n",
       "      <td>20.0</td>\n",
       "      <td>16.0</td>\n",
       "      <td>4.0</td>\n",
       "      <td>0.935716</td>\n",
       "      <td>1.0</td>\n",
       "    </tr>\n",
       "    <tr>\n",
       "      <th>4</th>\n",
       "      <td>42.0</td>\n",
       "      <td>42.0</td>\n",
       "      <td>0.0</td>\n",
       "      <td>0.000000</td>\n",
       "      <td>0.0</td>\n",
       "    </tr>\n",
       "  </tbody>\n",
       "</table>\n",
       "</div>"
      ],
      "text/plain": [
       "   volume  volume_calc  delta  delta_norm  delta_norm_round\n",
       "0    12.0         10.0    2.0    0.467858               0.0\n",
       "1   234.0        230.0    4.0    0.935716               1.0\n",
       "2    26.0         26.0    0.0    0.000000               0.0\n",
       "3    20.0         16.0    4.0    0.935716               1.0\n",
       "4    42.0         42.0    0.0    0.000000               0.0"
      ]
     },
     "execution_count": 15,
     "metadata": {},
     "output_type": "execute_result"
    }
   ],
   "source": [
    "# Округлим значения нормализованной дельты до целых чисел, так как речь в задаче идет об автомобилях\n",
    "\n",
    "# ПРИМЕЧАНИЕ. Возможно, округлять стоит не на этом шаге, а на более поздних этапах. Это зависит от модели и метрик\n",
    "# качества, которые получатся\n",
    "\n",
    "df['delta_norm_round'] = np.round(df.delta_norm)\n",
    "df.head()"
   ]
  },
  {
   "cell_type": "code",
   "execution_count": 16,
   "id": "c1eeb196",
   "metadata": {},
   "outputs": [
    {
     "data": {
      "image/png": "[encoded data removed]",
      "text/plain": [
       "<Figure size 864x576 with 1 Axes>"
      ]
     },
     "metadata": {
      "needs_background": "light"
     },
     "output_type": "display_data"
    }
   ],
   "source": [
    "# Посмотрим на связь между новой дельтой и количеством автомобилей\n",
    "fig, ax = plt.subplots(figsize=(12,8))\n",
    "plt.scatter(df.volume, df.delta_norm_round)\n",
    "ax.set_xlabel('volume')\n",
    "ax.set_ylabel('delta_norm_round')\n",
    "ax.set_title('Соотношение volume и нормализованной delta, коэффициент корреляции %.4f' % (\n",
    "    df.volume.corr(df.delta_norm_round))\n",
    "    , fontsize=18);"
   ]
  },
  {
   "cell_type": "code",
   "execution_count": 17,
   "id": "29a706b9",
   "metadata": {},
   "outputs": [
    {
     "data": {
      "text/html": [
       "<div>\n",
       "<style scoped>\n",
       "    .dataframe tbody tr th:only-of-type {\n",
       "        vertical-align: middle;\n",
       "    }\n",
       "\n",
       "    .dataframe tbody tr th {\n",
       "        vertical-align: top;\n",
       "    }\n",
       "\n",
       "    .dataframe thead th {\n",
       "        text-align: right;\n",
       "    }\n",
       "</style>\n",
       "<table border=\"1\" class=\"dataframe\">\n",
       "  <thead>\n",
       "    <tr style=\"text-align: right;\">\n",
       "      <th></th>\n",
       "      <th>volume</th>\n",
       "      <th>volume_calc</th>\n",
       "      <th>delta</th>\n",
       "      <th>delta_norm</th>\n",
       "      <th>delta_norm_round</th>\n",
       "      <th>volume_calc_norm</th>\n",
       "    </tr>\n",
       "  </thead>\n",
       "  <tbody>\n",
       "    <tr>\n",
       "      <th>0</th>\n",
       "      <td>12.0</td>\n",
       "      <td>10.0</td>\n",
       "      <td>2.0</td>\n",
       "      <td>0.467858</td>\n",
       "      <td>0.0</td>\n",
       "      <td>12.0</td>\n",
       "    </tr>\n",
       "    <tr>\n",
       "      <th>1</th>\n",
       "      <td>234.0</td>\n",
       "      <td>230.0</td>\n",
       "      <td>4.0</td>\n",
       "      <td>0.935716</td>\n",
       "      <td>1.0</td>\n",
       "      <td>233.0</td>\n",
       "    </tr>\n",
       "    <tr>\n",
       "      <th>2</th>\n",
       "      <td>26.0</td>\n",
       "      <td>26.0</td>\n",
       "      <td>0.0</td>\n",
       "      <td>0.000000</td>\n",
       "      <td>0.0</td>\n",
       "      <td>26.0</td>\n",
       "    </tr>\n",
       "    <tr>\n",
       "      <th>3</th>\n",
       "      <td>20.0</td>\n",
       "      <td>16.0</td>\n",
       "      <td>4.0</td>\n",
       "      <td>0.935716</td>\n",
       "      <td>1.0</td>\n",
       "      <td>19.0</td>\n",
       "    </tr>\n",
       "    <tr>\n",
       "      <th>4</th>\n",
       "      <td>42.0</td>\n",
       "      <td>42.0</td>\n",
       "      <td>0.0</td>\n",
       "      <td>0.000000</td>\n",
       "      <td>0.0</td>\n",
       "      <td>42.0</td>\n",
       "    </tr>\n",
       "  </tbody>\n",
       "</table>\n",
       "</div>"
      ],
      "text/plain": [
       "   volume  volume_calc  delta  delta_norm  delta_norm_round  volume_calc_norm\n",
       "0    12.0         10.0    2.0    0.467858               0.0              12.0\n",
       "1   234.0        230.0    4.0    0.935716               1.0             233.0\n",
       "2    26.0         26.0    0.0    0.000000               0.0              26.0\n",
       "3    20.0         16.0    4.0    0.935716               1.0              19.0\n",
       "4    42.0         42.0    0.0    0.000000               0.0              42.0"
      ]
     },
     "execution_count": 17,
     "metadata": {},
     "output_type": "execute_result"
    }
   ],
   "source": [
    "# Закономерности сохранились\n",
    "\n",
    "# Остается только пересчитать \"официальное\" количество volume_calc\n",
    "df['volume_calc_norm'] = df.volume - df.delta_norm_round\n",
    "df.head()"
   ]
  },
  {
   "cell_type": "markdown",
   "id": "cf11d177",
   "metadata": {},
   "source": [
    "### Общие выводы\n",
    "\n",
    "Таким образом, мы отобрали 95 438 значений из 100 000 исходных, пригодных для обучения модели. На первом шаге мы избавились от значений delta, которые не подчиняются общей закономерности: при увеличении общего количества автомобилей должно увеличиваться количество скрытых. Затем мы применили нормализацию и поместили все значения разницы-дельты в \"коридор\" от 0 до 5000. Наконец, задали новую переменную volume_calc_norm, которая представляет собой volume минус нормализованная дельта. Эту новую переменную можно использовать для обучения модели.\n",
    "\n",
    "При этом необходимо понимать, что в вопросе определения выбросов не может быть идеального решения. Многое зависит от результатов обучения непосредственно самой модели и получившихся метрик качества модели. Поэтому на каждом шаге возможны другие тактики: можно увеличить / уменьшить размер \"коридора\" при нормализации, проводить округление до целых самой дельты, или переменной volume_calc_norm, или обучать модель на дробных значениях и т.д."
   ]
  },
  {
   "cell_type": "code",
   "execution_count": null,
   "id": "766921e3",
   "metadata": {},
   "outputs": [],
   "source": []
  }
 ],
 "metadata": {
  "kernelspec": {
   "display_name": "Python 3",
   "language": "python",
   "name": "python3"
  },
  "language_info": {
   "codemirror_mode": {
    "name": "ipython",
    "version": 3
   },
   "file_extension": ".py",
   "mimetype": "text/x-python",
   "name": "python",
   "nbconvert_exporter": "python",
   "pygments_lexer": "ipython3",
   "version": "3.7.10"
  }
 },
 "nbformat": 4,
 "nbformat_minor": 5
}
